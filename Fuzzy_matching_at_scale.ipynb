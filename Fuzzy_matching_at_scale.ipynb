{
  "nbformat": 4,
  "nbformat_minor": 0,
  "metadata": {
    "colab": {
      "name": "Fuzzy matching at scale.ipynb",
      "provenance": []
    },
    "kernelspec": {
      "name": "python3",
      "display_name": "Python 3"
    },
    "language_info": {
      "name": "python"
    }
  },
  "cells": [
    {
      "cell_type": "markdown",
      "source": [
        "Link of articles \n",
        "### Link :- https://towardsdatascience.com/fuzzy-matching-at-scale-84f2bfd0c536"
      ],
      "metadata": {
        "id": "8VpfwU5YsSFA"
      }
    },
    {
      "cell_type": "markdown",
      "source": [
        "### **Deduplication.** Aligning similar categories or entities in a data set (for example, we may need to combine ‘D J Trump’, ‘D. Trump’ and ‘Donald Trump’ into the same entity).\n",
        "\n",
        "\n",
        "### **Record Linkage.** Joining data sets on a particular entity (for example, joining records of ‘D J Trump’ to a URL of his Wikipedia page)."
      ],
      "metadata": {
        "id": "6Jq3AcTHsjUY"
      }
    },
    {
      "cell_type": "code",
      "execution_count": 1,
      "metadata": {
        "colab": {
          "base_uri": "https://localhost:8080/"
        },
        "id": "t26s5DjrsHuR",
        "outputId": "6b2e30b8-d004-4adb-f4cf-faa081f9661a"
      },
      "outputs": [
        {
          "output_type": "stream",
          "name": "stderr",
          "text": [
            "/usr/local/lib/python3.7/dist-packages/ipykernel_launcher.py:2: FutureWarning: Passing a negative integer is deprecated in version 1.0 and will not be supported in future version. Instead, use None to not limit the column width.\n",
            "  \n"
          ]
        }
      ],
      "source": [
        "import pandas as pd\n",
        "pd.set_option('display.max_colwidth', -1)\n",
        "from tqdm import tqdm\n",
        "from google.colab import drive\n",
        "import os\n",
        "from matplotlib import style\n",
        "style.use('fivethirtyeight')"
      ]
    },
    {
      "cell_type": "code",
      "source": [
        "names = pd.read_csv('/content/messy org names.csv')\n",
        "names.head()"
      ],
      "metadata": {
        "colab": {
          "base_uri": "https://localhost:8080/",
          "height": 206
        },
        "id": "4ZYaMg4tuEhj",
        "outputId": "8b453d7f-688d-47c0-95f4-f1d7c58b8bc6"
      },
      "execution_count": 2,
      "outputs": [
        {
          "output_type": "execute_result",
          "data": {
            "text/plain": [
              "   Unnamed: 0                                 buyer  count\n",
              "0  0           Crescent Purchasing Consortium (CPC)  4404 \n",
              "1  1           Crown Commercial Service              3683 \n",
              "2  2           UK SHARED BUSINESS SERVICES LIMITED   2467 \n",
              "3  3           Leeds City Council                    2320 \n",
              "4  4           FCO SERVICES                          2310 "
            ],
            "text/html": [
              "\n",
              "  <div id=\"df-4d39ab86-4a36-42af-8b22-4822a21ad359\">\n",
              "    <div class=\"colab-df-container\">\n",
              "      <div>\n",
              "<style scoped>\n",
              "    .dataframe tbody tr th:only-of-type {\n",
              "        vertical-align: middle;\n",
              "    }\n",
              "\n",
              "    .dataframe tbody tr th {\n",
              "        vertical-align: top;\n",
              "    }\n",
              "\n",
              "    .dataframe thead th {\n",
              "        text-align: right;\n",
              "    }\n",
              "</style>\n",
              "<table border=\"1\" class=\"dataframe\">\n",
              "  <thead>\n",
              "    <tr style=\"text-align: right;\">\n",
              "      <th></th>\n",
              "      <th>Unnamed: 0</th>\n",
              "      <th>buyer</th>\n",
              "      <th>count</th>\n",
              "    </tr>\n",
              "  </thead>\n",
              "  <tbody>\n",
              "    <tr>\n",
              "      <th>0</th>\n",
              "      <td>0</td>\n",
              "      <td>Crescent Purchasing Consortium (CPC)</td>\n",
              "      <td>4404</td>\n",
              "    </tr>\n",
              "    <tr>\n",
              "      <th>1</th>\n",
              "      <td>1</td>\n",
              "      <td>Crown Commercial Service</td>\n",
              "      <td>3683</td>\n",
              "    </tr>\n",
              "    <tr>\n",
              "      <th>2</th>\n",
              "      <td>2</td>\n",
              "      <td>UK SHARED BUSINESS SERVICES LIMITED</td>\n",
              "      <td>2467</td>\n",
              "    </tr>\n",
              "    <tr>\n",
              "      <th>3</th>\n",
              "      <td>3</td>\n",
              "      <td>Leeds City Council</td>\n",
              "      <td>2320</td>\n",
              "    </tr>\n",
              "    <tr>\n",
              "      <th>4</th>\n",
              "      <td>4</td>\n",
              "      <td>FCO SERVICES</td>\n",
              "      <td>2310</td>\n",
              "    </tr>\n",
              "  </tbody>\n",
              "</table>\n",
              "</div>\n",
              "      <button class=\"colab-df-convert\" onclick=\"convertToInteractive('df-4d39ab86-4a36-42af-8b22-4822a21ad359')\"\n",
              "              title=\"Convert this dataframe to an interactive table.\"\n",
              "              style=\"display:none;\">\n",
              "        \n",
              "  <svg xmlns=\"http://www.w3.org/2000/svg\" height=\"24px\"viewBox=\"0 0 24 24\"\n",
              "       width=\"24px\">\n",
              "    <path d=\"M0 0h24v24H0V0z\" fill=\"none\"/>\n",
              "    <path d=\"M18.56 5.44l.94 2.06.94-2.06 2.06-.94-2.06-.94-.94-2.06-.94 2.06-2.06.94zm-11 1L8.5 8.5l.94-2.06 2.06-.94-2.06-.94L8.5 2.5l-.94 2.06-2.06.94zm10 10l.94 2.06.94-2.06 2.06-.94-2.06-.94-.94-2.06-.94 2.06-2.06.94z\"/><path d=\"M17.41 7.96l-1.37-1.37c-.4-.4-.92-.59-1.43-.59-.52 0-1.04.2-1.43.59L10.3 9.45l-7.72 7.72c-.78.78-.78 2.05 0 2.83L4 21.41c.39.39.9.59 1.41.59.51 0 1.02-.2 1.41-.59l7.78-7.78 2.81-2.81c.8-.78.8-2.07 0-2.86zM5.41 20L4 18.59l7.72-7.72 1.47 1.35L5.41 20z\"/>\n",
              "  </svg>\n",
              "      </button>\n",
              "      \n",
              "  <style>\n",
              "    .colab-df-container {\n",
              "      display:flex;\n",
              "      flex-wrap:wrap;\n",
              "      gap: 12px;\n",
              "    }\n",
              "\n",
              "    .colab-df-convert {\n",
              "      background-color: #E8F0FE;\n",
              "      border: none;\n",
              "      border-radius: 50%;\n",
              "      cursor: pointer;\n",
              "      display: none;\n",
              "      fill: #1967D2;\n",
              "      height: 32px;\n",
              "      padding: 0 0 0 0;\n",
              "      width: 32px;\n",
              "    }\n",
              "\n",
              "    .colab-df-convert:hover {\n",
              "      background-color: #E2EBFA;\n",
              "      box-shadow: 0px 1px 2px rgba(60, 64, 67, 0.3), 0px 1px 3px 1px rgba(60, 64, 67, 0.15);\n",
              "      fill: #174EA6;\n",
              "    }\n",
              "\n",
              "    [theme=dark] .colab-df-convert {\n",
              "      background-color: #3B4455;\n",
              "      fill: #D2E3FC;\n",
              "    }\n",
              "\n",
              "    [theme=dark] .colab-df-convert:hover {\n",
              "      background-color: #434B5C;\n",
              "      box-shadow: 0px 1px 3px 1px rgba(0, 0, 0, 0.15);\n",
              "      filter: drop-shadow(0px 1px 2px rgba(0, 0, 0, 0.3));\n",
              "      fill: #FFFFFF;\n",
              "    }\n",
              "  </style>\n",
              "\n",
              "      <script>\n",
              "        const buttonEl =\n",
              "          document.querySelector('#df-4d39ab86-4a36-42af-8b22-4822a21ad359 button.colab-df-convert');\n",
              "        buttonEl.style.display =\n",
              "          google.colab.kernel.accessAllowed ? 'block' : 'none';\n",
              "\n",
              "        async function convertToInteractive(key) {\n",
              "          const element = document.querySelector('#df-4d39ab86-4a36-42af-8b22-4822a21ad359');\n",
              "          const dataTable =\n",
              "            await google.colab.kernel.invokeFunction('convertToInteractive',\n",
              "                                                     [key], {});\n",
              "          if (!dataTable) return;\n",
              "\n",
              "          const docLinkHtml = 'Like what you see? Visit the ' +\n",
              "            '<a target=\"_blank\" href=https://colab.research.google.com/notebooks/data_table.ipynb>data table notebook</a>'\n",
              "            + ' to learn more about interactive tables.';\n",
              "          element.innerHTML = '';\n",
              "          dataTable['output_type'] = 'display_data';\n",
              "          await google.colab.output.renderOutput(dataTable, element);\n",
              "          const docLink = document.createElement('div');\n",
              "          docLink.innerHTML = docLinkHtml;\n",
              "          element.appendChild(docLink);\n",
              "        }\n",
              "      </script>\n",
              "    </div>\n",
              "  </div>\n",
              "  "
            ]
          },
          "metadata": {},
          "execution_count": 2
        }
      ]
    },
    {
      "cell_type": "code",
      "source": [
        "print('The shape: %d x %d' % names.shape)\n",
        "print('There are %d unique values' % names.buyer.shape[0])"
      ],
      "metadata": {
        "colab": {
          "base_uri": "https://localhost:8080/"
        },
        "id": "TFOi2ZPauwmx",
        "outputId": "ec725a56-a5d1-4503-87e0-ed2f871e5db6"
      },
      "execution_count": 5,
      "outputs": [
        {
          "output_type": "stream",
          "name": "stdout",
          "text": [
            "The shape: 3651 x 3\n",
            "There are 3651 unique values\n"
          ]
        }
      ]
    },
    {
      "cell_type": "markdown",
      "source": [
        "##De duplication:"
      ],
      "metadata": {
        "id": "uj21_-CSu6vW"
      }
    },
    {
      "cell_type": "code",
      "source": [
        "import re\n",
        "!pip install ftfy # amazing text cleaning for decode issues..\n",
        "from ftfy import fix_text"
      ],
      "metadata": {
        "colab": {
          "base_uri": "https://localhost:8080/"
        },
        "id": "bJ1jcnDuu0oK",
        "outputId": "220a31fa-e043-4ec2-c454-8cb4f6ab44e0"
      },
      "execution_count": 6,
      "outputs": [
        {
          "output_type": "stream",
          "name": "stdout",
          "text": [
            "Looking in indexes: https://pypi.org/simple, https://us-python.pkg.dev/colab-wheels/public/simple/\n",
            "Collecting ftfy\n",
            "  Downloading ftfy-6.1.1-py3-none-any.whl (53 kB)\n",
            "\u001b[K     |████████████████████████████████| 53 kB 1.1 MB/s \n",
            "\u001b[?25hRequirement already satisfied: wcwidth>=0.2.5 in /usr/local/lib/python3.7/dist-packages (from ftfy) (0.2.5)\n",
            "Installing collected packages: ftfy\n",
            "Successfully installed ftfy-6.1.1\n"
          ]
        }
      ]
    },
    {
      "cell_type": "markdown",
      "source": [
        "# **Smart Deduping**\n",
        "We will first explore how to dedupe close matches. The process is made painless using Python’s Scikit-Learn library:\n",
        "\n",
        "Create a function to split our stings into character ngrams.\n",
        "\n",
        "Create a tf-idf matrix from these characters using Scikit-Learn.\n",
        "\n",
        "Use cosine similarity to show close matches across the population."
      ],
      "metadata": {
        "id": "bym17uzew7zV"
      }
    },
    {
      "cell_type": "markdown",
      "source": [
        "### The ngram function"
      ],
      "metadata": {
        "id": "cr9gdbC-xXVf"
      }
    },
    {
      "cell_type": "code",
      "source": [
        "def ngrams(string, n=3):\n",
        "    string = str(string)\n",
        "    string = fix_text(string) # fix text\n",
        "    string = string.encode(\"ascii\", errors=\"ignore\").decode() #remove non ascii chars\n",
        "    string = string.lower()\n",
        "    chars_to_remove = [\")\",\"(\",\".\",\"|\",\"[\",\"]\",\"{\",\"}\",\"'\"]\n",
        "    rx = '[' + re.escape(''.join(chars_to_remove)) + ']'\n",
        "    string = re.sub(rx, '', string)\n",
        "    string = string.replace('&', 'and')\n",
        "    string = string.replace(',', ' ')\n",
        "    string = string.replace('-', ' ')\n",
        "    string = string.title() # normalise case - capital at start of each word\n",
        "    string = re.sub(' +',' ',string).strip() # get rid of multiple spaces and replace with a single\n",
        "    string = ' '+ string +' ' # pad names for ngrams...\n",
        "    string = re.sub(r'[,-./]|\\sBD',r'', string)\n",
        "    ngrams = zip(*[string[i:] for i in range(n)])\n",
        "    return [''.join(ngram) for ngram in ngrams]"
      ],
      "metadata": {
        "id": "Psx4_fUevKxp"
      },
      "execution_count": 7,
      "outputs": []
    },
    {
      "cell_type": "code",
      "source": [
        "print('All 3-grams in \"Department\":')\n",
        "print(ngrams('Department'))"
      ],
      "metadata": {
        "colab": {
          "base_uri": "https://localhost:8080/"
        },
        "id": "xjjdVcFTvOFh",
        "outputId": "cbd97e03-eca8-4fd6-b75a-e06407050e94"
      },
      "execution_count": 9,
      "outputs": [
        {
          "output_type": "stream",
          "name": "stdout",
          "text": [
            "All 3-grams in \"Department\":\n",
            "[' Ed', 'Edu', 'duc', 'uct', 'cti', 'tio', 'ion', 'on ']\n"
          ]
        }
      ]
    },
    {
      "cell_type": "code",
      "source": [
        "import numpy as np\n",
        "from scipy.sparse import csr_matrix\n",
        "!pip install sparse_dot_topn #uncomment to install\n",
        "import sparse_dot_topn.sparse_dot_topn as ct"
      ],
      "metadata": {
        "colab": {
          "base_uri": "https://localhost:8080/"
        },
        "id": "zPE_X8QUvdU6",
        "outputId": "c64ed352-6bd0-4d1b-9108-458c4a626e56"
      },
      "execution_count": 10,
      "outputs": [
        {
          "output_type": "stream",
          "name": "stdout",
          "text": [
            "Looking in indexes: https://pypi.org/simple, https://us-python.pkg.dev/colab-wheels/public/simple/\n",
            "Collecting sparse_dot_topn\n",
            "  Downloading sparse_dot_topn-0.3.3-cp37-cp37m-manylinux_2_17_x86_64.manylinux2014_x86_64.whl (2.1 MB)\n",
            "\u001b[K     |████████████████████████████████| 2.1 MB 4.9 MB/s \n",
            "\u001b[?25hRequirement already satisfied: scipy>=1.2.3 in /usr/local/lib/python3.7/dist-packages (from sparse_dot_topn) (1.7.3)\n",
            "Requirement already satisfied: numpy>=1.14.5 in /usr/local/lib/python3.7/dist-packages (from sparse_dot_topn) (1.21.6)\n",
            "Installing collected packages: sparse-dot-topn\n",
            "Successfully installed sparse-dot-topn-0.3.3\n"
          ]
        }
      ]
    },
    {
      "cell_type": "markdown",
      "source": [
        "### Applying the function and creating a tf-idf matrix"
      ],
      "metadata": {
        "id": "bqjw68fHxSiX"
      }
    },
    {
      "cell_type": "code",
      "source": [
        "from sklearn.feature_extraction.text import TfidfVectorizer\n",
        "\n",
        "org_names = names['buyer'].unique()\n",
        "vectorizer = TfidfVectorizer(min_df=1, analyzer=ngrams)\n",
        "tf_idf_matrix = vectorizer.fit_transform(org_names)"
      ],
      "metadata": {
        "id": "4rM8fV0Fvp0J"
      },
      "execution_count": 12,
      "outputs": []
    },
    {
      "cell_type": "markdown",
      "source": [
        "### Finding close matches through cosine similarity"
      ],
      "metadata": {
        "id": "AjF6WoA4xem_"
      }
    },
    {
      "cell_type": "code",
      "source": [
        "def awesome_cossim_top(A, B, ntop, lower_bound=0):\n",
        "    # force A and B as a CSR matrix.\n",
        "    # If they have already been CSR, there is no overhead\n",
        "    A = A.tocsr()\n",
        "    B = B.tocsr()\n",
        "    M, _ = A.shape\n",
        "    _, N = B.shape\n",
        " \n",
        "    idx_dtype = np.int32\n",
        " \n",
        "    nnz_max = M*ntop\n",
        " \n",
        "    indptr = np.zeros(M+1, dtype=idx_dtype)\n",
        "    indices = np.zeros(nnz_max, dtype=idx_dtype)\n",
        "    data = np.zeros(nnz_max, dtype=A.dtype)\n",
        "\n",
        "    ct.sparse_dot_topn(\n",
        "        M, N, np.asarray(A.indptr, dtype=idx_dtype),\n",
        "        np.asarray(A.indices, dtype=idx_dtype),\n",
        "        A.data,\n",
        "        np.asarray(B.indptr, dtype=idx_dtype),\n",
        "        np.asarray(B.indices, dtype=idx_dtype),\n",
        "        B.data,\n",
        "        ntop,\n",
        "        lower_bound,\n",
        "        indptr, indices, data)\n",
        "\n",
        "    return csr_matrix((data,indices,indptr),shape=(M,N))"
      ],
      "metadata": {
        "id": "qhKx1AYKvkS5"
      },
      "execution_count": 11,
      "outputs": []
    },
    {
      "cell_type": "markdown",
      "source": [
        "### Putting all of this together we get the following result:"
      ],
      "metadata": {
        "id": "IinaAx4_x5Ka"
      }
    },
    {
      "cell_type": "code",
      "source": [
        "def get_matches_df(sparse_matrix, name_vector, top=100):\n",
        "    non_zeros = sparse_matrix.nonzero()\n",
        "    \n",
        "    sparserows = non_zeros[0]\n",
        "    sparsecols = non_zeros[1]\n",
        "    \n",
        "    if top:\n",
        "        nr_matches = top\n",
        "    else:\n",
        "        nr_matches = sparsecols.size\n",
        "    \n",
        "    left_side = np.empty([nr_matches], dtype=object)\n",
        "    right_side = np.empty([nr_matches], dtype=object)\n",
        "    similairity = np.zeros(nr_matches)\n",
        "    \n",
        "    for index in range(0, nr_matches):\n",
        "        left_side[index] = name_vector[sparserows[index]]\n",
        "        right_side[index] = name_vector[sparsecols[index]]\n",
        "        similairity[index] = sparse_matrix.data[index]\n",
        "    \n",
        "    return pd.DataFrame({'left_side': left_side,\n",
        "                          'right_side': right_side,\n",
        "                           'similairity': similairity})"
      ],
      "metadata": {
        "id": "XY14rzMhwOiR"
      },
      "execution_count": 17,
      "outputs": []
    },
    {
      "cell_type": "code",
      "source": [
        "import time\n",
        "t1 = time.time()\n",
        "matches = awesome_cossim_top(tf_idf_matrix, tf_idf_matrix.transpose(), 10, 0.85)\n",
        "t = time.time()-t1\n",
        "print(\"SELFTIMED:\", t)"
      ],
      "metadata": {
        "colab": {
          "base_uri": "https://localhost:8080/"
        },
        "id": "J3aOLTFiv8Vb",
        "outputId": "0d48102d-aa39-435a-929d-bd222ebd423e"
      },
      "execution_count": 13,
      "outputs": [
        {
          "output_type": "stream",
          "name": "stdout",
          "text": [
            "SELFTIMED: 0.23862051963806152\n"
          ]
        }
      ]
    },
    {
      "cell_type": "code",
      "source": [
        "matches_df = get_matches_df(matches, org_names, top=1000)\n",
        "matches_df = matches_df[matches_df['similairity'] < 0.99999] # Remove all exact matches\n",
        "matches_df.sample(20)"
      ],
      "metadata": {
        "colab": {
          "base_uri": "https://localhost:8080/",
          "height": 676
        },
        "id": "SnkHw3tcwroi",
        "outputId": "30e365d6-c1c1-41b9-b09c-165f8a95fbd3"
      },
      "execution_count": 18,
      "outputs": [
        {
          "output_type": "execute_result",
          "data": {
            "text/plain": [
              "                                                       left_side  \\\n",
              "617  Kingstown Works Ltd                                           \n",
              "635  KINGS LYNN & WEST NORFOLK BOROUGH COUNCIL                     \n",
              "107  East Riding of Yorkshire                                      \n",
              "476  The University Of Leeds                                       \n",
              "470  NORTH WESTERN UNIVERSITIES PURCHASING CONSORTIUM LIMITED      \n",
              "302  University College of London Hospitals NHS Foundation Trust   \n",
              "124  South Tyneside Council                                        \n",
              "225  The University of Warwick                                     \n",
              "396  University of Leeds                                           \n",
              "384  Dorset HealthCare University NHS Foundation Trust             \n",
              "980  South London and the Maudsley NHS Foundation Trust            \n",
              "623  University Of Plymouth                                        \n",
              "574  University College London Hospitals NHS Foundation Trust      \n",
              "55   HOME OFFICE                                                   \n",
              "57   DEPARTMENT FOR INTERNATIONAL DEVELOPMENT                      \n",
              "981  South London and the Maudsley NHS Foundation Trust            \n",
              "450  Business Energy and Industrial Strategy                       \n",
              "806  The Guinness Partnership Ltd                                  \n",
              "831  UNIVERSITY OF NOTTINGHAM (THE)                                \n",
              "901  Department Of International Trade                             \n",
              "\n",
              "                                                                              right_side  \\\n",
              "617  Kingstown Works Limited                                                               \n",
              "635  Borough Council of King&#039;s Lynn &amp; West Norfolk                                \n",
              "107  East Riding of Yorkshire Council                                                      \n",
              "476  University of Leeds                                                                   \n",
              "470  North eastern Universities Purchasing consortium                                      \n",
              "302  University College London Hospitals NHS Foundation Trust                              \n",
              "124  North Tyneside Council                                                                \n",
              "225  UNIVERSITY OF WARWICK                                                                 \n",
              "396  The University of Leeds                                                               \n",
              "384  Dorset Health Care University NHS Foundation Trust                                    \n",
              "980  South London & Maudsley NHS Foundation Trust                                          \n",
              "623  Plymouth University                                                                   \n",
              "574  University College of London Hospitals NHS Foundation Trust                           \n",
              "55   Home Office : Home Office                                                             \n",
              "57   Department for International Development : Department for International Development   \n",
              "981  SOUTH LONDON AND MAUDSLEY NHS FOUNDATION TRUST                                        \n",
              "450  Department for Business Energy and Industrial Strategy                                \n",
              "806  THE GUINNESS PARTNERSHIP LIMITED                                                      \n",
              "831  The University of Nottingham                                                          \n",
              "901  Department for International Trade                                                    \n",
              "\n",
              "     similairity  \n",
              "617  0.878768     \n",
              "635  0.922915     \n",
              "107  0.951229     \n",
              "476  0.912836     \n",
              "470  0.874805     \n",
              "302  0.941518     \n",
              "124  0.850709     \n",
              "225  0.924797     \n",
              "396  0.912836     \n",
              "384  0.897224     \n",
              "980  0.931483     \n",
              "623  0.851232     \n",
              "574  0.941518     \n",
              "55   0.933306     \n",
              "57   0.984561     \n",
              "981  0.931483     \n",
              "450  0.871965     \n",
              "806  0.908742     \n",
              "831  0.930830     \n",
              "901  0.855079     "
            ],
            "text/html": [
              "\n",
              "  <div id=\"df-39cf3335-34ef-4fdc-b49d-b7d718921907\">\n",
              "    <div class=\"colab-df-container\">\n",
              "      <div>\n",
              "<style scoped>\n",
              "    .dataframe tbody tr th:only-of-type {\n",
              "        vertical-align: middle;\n",
              "    }\n",
              "\n",
              "    .dataframe tbody tr th {\n",
              "        vertical-align: top;\n",
              "    }\n",
              "\n",
              "    .dataframe thead th {\n",
              "        text-align: right;\n",
              "    }\n",
              "</style>\n",
              "<table border=\"1\" class=\"dataframe\">\n",
              "  <thead>\n",
              "    <tr style=\"text-align: right;\">\n",
              "      <th></th>\n",
              "      <th>left_side</th>\n",
              "      <th>right_side</th>\n",
              "      <th>similairity</th>\n",
              "    </tr>\n",
              "  </thead>\n",
              "  <tbody>\n",
              "    <tr>\n",
              "      <th>617</th>\n",
              "      <td>Kingstown Works Ltd</td>\n",
              "      <td>Kingstown Works Limited</td>\n",
              "      <td>0.878768</td>\n",
              "    </tr>\n",
              "    <tr>\n",
              "      <th>635</th>\n",
              "      <td>KINGS LYNN &amp; WEST NORFOLK BOROUGH COUNCIL</td>\n",
              "      <td>Borough Council of King&amp;#039;s Lynn &amp;amp; West Norfolk</td>\n",
              "      <td>0.922915</td>\n",
              "    </tr>\n",
              "    <tr>\n",
              "      <th>107</th>\n",
              "      <td>East Riding of Yorkshire</td>\n",
              "      <td>East Riding of Yorkshire Council</td>\n",
              "      <td>0.951229</td>\n",
              "    </tr>\n",
              "    <tr>\n",
              "      <th>476</th>\n",
              "      <td>The University Of Leeds</td>\n",
              "      <td>University of Leeds</td>\n",
              "      <td>0.912836</td>\n",
              "    </tr>\n",
              "    <tr>\n",
              "      <th>470</th>\n",
              "      <td>NORTH WESTERN UNIVERSITIES PURCHASING CONSORTIUM LIMITED</td>\n",
              "      <td>North eastern Universities Purchasing consortium</td>\n",
              "      <td>0.874805</td>\n",
              "    </tr>\n",
              "    <tr>\n",
              "      <th>302</th>\n",
              "      <td>University College of London Hospitals NHS Foundation Trust</td>\n",
              "      <td>University College London Hospitals NHS Foundation Trust</td>\n",
              "      <td>0.941518</td>\n",
              "    </tr>\n",
              "    <tr>\n",
              "      <th>124</th>\n",
              "      <td>South Tyneside Council</td>\n",
              "      <td>North Tyneside Council</td>\n",
              "      <td>0.850709</td>\n",
              "    </tr>\n",
              "    <tr>\n",
              "      <th>225</th>\n",
              "      <td>The University of Warwick</td>\n",
              "      <td>UNIVERSITY OF WARWICK</td>\n",
              "      <td>0.924797</td>\n",
              "    </tr>\n",
              "    <tr>\n",
              "      <th>396</th>\n",
              "      <td>University of Leeds</td>\n",
              "      <td>The University of Leeds</td>\n",
              "      <td>0.912836</td>\n",
              "    </tr>\n",
              "    <tr>\n",
              "      <th>384</th>\n",
              "      <td>Dorset HealthCare University NHS Foundation Trust</td>\n",
              "      <td>Dorset Health Care University NHS Foundation Trust</td>\n",
              "      <td>0.897224</td>\n",
              "    </tr>\n",
              "    <tr>\n",
              "      <th>980</th>\n",
              "      <td>South London and the Maudsley NHS Foundation Trust</td>\n",
              "      <td>South London &amp; Maudsley NHS Foundation Trust</td>\n",
              "      <td>0.931483</td>\n",
              "    </tr>\n",
              "    <tr>\n",
              "      <th>623</th>\n",
              "      <td>University Of Plymouth</td>\n",
              "      <td>Plymouth University</td>\n",
              "      <td>0.851232</td>\n",
              "    </tr>\n",
              "    <tr>\n",
              "      <th>574</th>\n",
              "      <td>University College London Hospitals NHS Foundation Trust</td>\n",
              "      <td>University College of London Hospitals NHS Foundation Trust</td>\n",
              "      <td>0.941518</td>\n",
              "    </tr>\n",
              "    <tr>\n",
              "      <th>55</th>\n",
              "      <td>HOME OFFICE</td>\n",
              "      <td>Home Office : Home Office</td>\n",
              "      <td>0.933306</td>\n",
              "    </tr>\n",
              "    <tr>\n",
              "      <th>57</th>\n",
              "      <td>DEPARTMENT FOR INTERNATIONAL DEVELOPMENT</td>\n",
              "      <td>Department for International Development : Department for International Development</td>\n",
              "      <td>0.984561</td>\n",
              "    </tr>\n",
              "    <tr>\n",
              "      <th>981</th>\n",
              "      <td>South London and the Maudsley NHS Foundation Trust</td>\n",
              "      <td>SOUTH LONDON AND MAUDSLEY NHS FOUNDATION TRUST</td>\n",
              "      <td>0.931483</td>\n",
              "    </tr>\n",
              "    <tr>\n",
              "      <th>450</th>\n",
              "      <td>Business Energy and Industrial Strategy</td>\n",
              "      <td>Department for Business Energy and Industrial Strategy</td>\n",
              "      <td>0.871965</td>\n",
              "    </tr>\n",
              "    <tr>\n",
              "      <th>806</th>\n",
              "      <td>The Guinness Partnership Ltd</td>\n",
              "      <td>THE GUINNESS PARTNERSHIP LIMITED</td>\n",
              "      <td>0.908742</td>\n",
              "    </tr>\n",
              "    <tr>\n",
              "      <th>831</th>\n",
              "      <td>UNIVERSITY OF NOTTINGHAM (THE)</td>\n",
              "      <td>The University of Nottingham</td>\n",
              "      <td>0.930830</td>\n",
              "    </tr>\n",
              "    <tr>\n",
              "      <th>901</th>\n",
              "      <td>Department Of International Trade</td>\n",
              "      <td>Department for International Trade</td>\n",
              "      <td>0.855079</td>\n",
              "    </tr>\n",
              "  </tbody>\n",
              "</table>\n",
              "</div>\n",
              "      <button class=\"colab-df-convert\" onclick=\"convertToInteractive('df-39cf3335-34ef-4fdc-b49d-b7d718921907')\"\n",
              "              title=\"Convert this dataframe to an interactive table.\"\n",
              "              style=\"display:none;\">\n",
              "        \n",
              "  <svg xmlns=\"http://www.w3.org/2000/svg\" height=\"24px\"viewBox=\"0 0 24 24\"\n",
              "       width=\"24px\">\n",
              "    <path d=\"M0 0h24v24H0V0z\" fill=\"none\"/>\n",
              "    <path d=\"M18.56 5.44l.94 2.06.94-2.06 2.06-.94-2.06-.94-.94-2.06-.94 2.06-2.06.94zm-11 1L8.5 8.5l.94-2.06 2.06-.94-2.06-.94L8.5 2.5l-.94 2.06-2.06.94zm10 10l.94 2.06.94-2.06 2.06-.94-2.06-.94-.94-2.06-.94 2.06-2.06.94z\"/><path d=\"M17.41 7.96l-1.37-1.37c-.4-.4-.92-.59-1.43-.59-.52 0-1.04.2-1.43.59L10.3 9.45l-7.72 7.72c-.78.78-.78 2.05 0 2.83L4 21.41c.39.39.9.59 1.41.59.51 0 1.02-.2 1.41-.59l7.78-7.78 2.81-2.81c.8-.78.8-2.07 0-2.86zM5.41 20L4 18.59l7.72-7.72 1.47 1.35L5.41 20z\"/>\n",
              "  </svg>\n",
              "      </button>\n",
              "      \n",
              "  <style>\n",
              "    .colab-df-container {\n",
              "      display:flex;\n",
              "      flex-wrap:wrap;\n",
              "      gap: 12px;\n",
              "    }\n",
              "\n",
              "    .colab-df-convert {\n",
              "      background-color: #E8F0FE;\n",
              "      border: none;\n",
              "      border-radius: 50%;\n",
              "      cursor: pointer;\n",
              "      display: none;\n",
              "      fill: #1967D2;\n",
              "      height: 32px;\n",
              "      padding: 0 0 0 0;\n",
              "      width: 32px;\n",
              "    }\n",
              "\n",
              "    .colab-df-convert:hover {\n",
              "      background-color: #E2EBFA;\n",
              "      box-shadow: 0px 1px 2px rgba(60, 64, 67, 0.3), 0px 1px 3px 1px rgba(60, 64, 67, 0.15);\n",
              "      fill: #174EA6;\n",
              "    }\n",
              "\n",
              "    [theme=dark] .colab-df-convert {\n",
              "      background-color: #3B4455;\n",
              "      fill: #D2E3FC;\n",
              "    }\n",
              "\n",
              "    [theme=dark] .colab-df-convert:hover {\n",
              "      background-color: #434B5C;\n",
              "      box-shadow: 0px 1px 3px 1px rgba(0, 0, 0, 0.15);\n",
              "      filter: drop-shadow(0px 1px 2px rgba(0, 0, 0, 0.3));\n",
              "      fill: #FFFFFF;\n",
              "    }\n",
              "  </style>\n",
              "\n",
              "      <script>\n",
              "        const buttonEl =\n",
              "          document.querySelector('#df-39cf3335-34ef-4fdc-b49d-b7d718921907 button.colab-df-convert');\n",
              "        buttonEl.style.display =\n",
              "          google.colab.kernel.accessAllowed ? 'block' : 'none';\n",
              "\n",
              "        async function convertToInteractive(key) {\n",
              "          const element = document.querySelector('#df-39cf3335-34ef-4fdc-b49d-b7d718921907');\n",
              "          const dataTable =\n",
              "            await google.colab.kernel.invokeFunction('convertToInteractive',\n",
              "                                                     [key], {});\n",
              "          if (!dataTable) return;\n",
              "\n",
              "          const docLinkHtml = 'Like what you see? Visit the ' +\n",
              "            '<a target=\"_blank\" href=https://colab.research.google.com/notebooks/data_table.ipynb>data table notebook</a>'\n",
              "            + ' to learn more about interactive tables.';\n",
              "          element.innerHTML = '';\n",
              "          dataTable['output_type'] = 'display_data';\n",
              "          await google.colab.output.renderOutput(dataTable, element);\n",
              "          const docLink = document.createElement('div');\n",
              "          docLink.innerHTML = docLinkHtml;\n",
              "          element.appendChild(docLink);\n",
              "        }\n",
              "      </script>\n",
              "    </div>\n",
              "  </div>\n",
              "  "
            ]
          },
          "metadata": {},
          "execution_count": 18
        }
      ]
    },
    {
      "cell_type": "markdown",
      "source": [
        "#### Comparison to traditional matching\n",
        "This code prints the time it takes to compare <b>only one</b> item against the population. As you can see, the TD IDF approach can match all items (3,600) significantly faster than it takes to compare a single item using the fuzzywuzzy library."
      ],
      "metadata": {
        "id": "pIAhQMaJwGz9"
      }
    },
    {
      "cell_type": "code",
      "source": [
        "!pip install fuzzywuzzy\n",
        "from fuzzywuzzy import fuzz\n",
        "from fuzzywuzzy import process"
      ],
      "metadata": {
        "colab": {
          "base_uri": "https://localhost:8080/"
        },
        "id": "rG8vNYtxwTXk",
        "outputId": "ee81c107-a7cb-4c96-a9ae-1d021e74059a"
      },
      "execution_count": 15,
      "outputs": [
        {
          "output_type": "stream",
          "name": "stdout",
          "text": [
            "Looking in indexes: https://pypi.org/simple, https://us-python.pkg.dev/colab-wheels/public/simple/\n",
            "Requirement already satisfied: fuzzywuzzy in /usr/local/lib/python3.7/dist-packages (0.18.0)\n"
          ]
        }
      ]
    },
    {
      "cell_type": "code",
      "source": [
        "t1 = time.time()\n",
        "print(process.extractOne('Ministry of Justice', org_names))\n",
        "t = time.time()-t1\n",
        "print(\"SELFTIMED:\", t)\n",
        "print(\"Estimated hours to complete for full dataset:\", (t*len(org_names))/60/60)"
      ],
      "metadata": {
        "colab": {
          "base_uri": "https://localhost:8080/"
        },
        "id": "LzQCK_vawEAh",
        "outputId": "1418a5cf-558f-417a-ffe2-7ddad249191a"
      },
      "execution_count": 16,
      "outputs": [
        {
          "output_type": "stream",
          "name": "stdout",
          "text": [
            "('MINISTRY OF JUSTICE', 100)\n",
            "SELFTIMED: 4.050333738327026\n",
            "Estimated hours to complete for full dataset: 4.1077134662866595\n"
          ]
        }
      ]
    },
    {
      "cell_type": "markdown",
      "source": [
        "# Record linkage and a different approach\n",
        "\n",
        "If we want to use this technique to match against another data source then we can recycle the majority of our code. In the below section we will see how this is achieved and also use the K Nearest Neighbour algorithm as an alternative closeness measure.\n",
        "\n",
        "The dataset we would like to join on is a set of ‘clean’ organisation names created by the Office for National Statistics (ONS):"
      ],
      "metadata": {
        "id": "YOdPxsv7yKkB"
      }
    },
    {
      "cell_type": "markdown",
      "source": [
        "Using a similar technique to the above, we can join our messy data to a clean set of master data."
      ],
      "metadata": {
        "id": "FfO5uA7vyp4K"
      }
    },
    {
      "cell_type": "code",
      "source": [
        "##################\n",
        "from sklearn.metrics.pairwise import cosine_similarity\n",
        "from sklearn.feature_extraction.text import TfidfVectorizer\n",
        "import re\n",
        "\n",
        "clean_org_names = pd.read_excel('Gov Orgs ONS.xlsx')\n",
        "clean_org_names = clean_org_names.iloc[:, 0:6]\n",
        "\n",
        "org_name_clean = clean_org_names['Institutions'].unique()\n",
        "\n",
        "print('Vecorizing the data - this could take a few minutes for large datasets...')\n",
        "vectorizer = TfidfVectorizer(min_df=1, analyzer=ngrams, lowercase=False)\n",
        "tfidf = vectorizer.fit_transform(org_name_clean)\n",
        "print('Vecorizing completed...')\n",
        "\n",
        "from sklearn.neighbors import NearestNeighbors\n",
        "nbrs = NearestNeighbors(n_neighbors=1, n_jobs=-1).fit(tfidf)\n",
        "\n",
        "org_column = 'buyer' #column to match against in the messy data\n",
        "unique_org = set(names[org_column].values) # set used for increased performance"
      ],
      "metadata": {
        "colab": {
          "base_uri": "https://localhost:8080/"
        },
        "id": "V8CCSS-Ayoy7",
        "outputId": "bfa889bd-008c-4d23-e4b8-a058f8f7966e"
      },
      "execution_count": 19,
      "outputs": [
        {
          "output_type": "stream",
          "name": "stdout",
          "text": [
            "Vecorizing the data - this could take a few minutes for large datasets...\n",
            "Vecorizing completed...\n"
          ]
        }
      ]
    },
    {
      "cell_type": "code",
      "source": [
        "###matching query:\n",
        "def getNearestN(query):\n",
        "  queryTFIDF_ = vectorizer.transform(query)\n",
        "  distances, indices = nbrs.kneighbors(queryTFIDF_)\n",
        "  return distances, indices\n",
        "\n",
        "import time\n",
        "t1 = time.time()\n",
        "print('getting nearest n...')\n",
        "distances, indices = getNearestN(unique_org)\n",
        "t = time.time()-t1\n",
        "print(\"COMPLETED IN:\", t)\n",
        "\n",
        "unique_org = list(unique_org) #need to convert back to a list\n",
        "print('finding matches...')\n",
        "matches = []\n",
        "for i,j in enumerate(indices):\n",
        "  temp = [round(distances[i][0],2), clean_org_names.values[j][0][0],unique_org[i]]\n",
        "  matches.append(temp)\n",
        "\n",
        "print('Building data frame...')  \n",
        "matches = pd.DataFrame(matches, columns=['Match confidence (lower is better)','Matched name','Origional name'])\n",
        "print('Done') "
      ],
      "metadata": {
        "colab": {
          "base_uri": "https://localhost:8080/"
        },
        "id": "Xx8c4Beowubx",
        "outputId": "71bda34c-eaa0-480c-d8cf-dcbe3e0e8092"
      },
      "execution_count": 20,
      "outputs": [
        {
          "output_type": "stream",
          "name": "stdout",
          "text": [
            "getting nearest n...\n",
            "COMPLETED IN: 1.2724599838256836\n",
            "finding matches...\n",
            "Building data frame...\n",
            "Done\n"
          ]
        }
      ]
    },
    {
      "cell_type": "code",
      "source": [
        "matches.head(10)"
      ],
      "metadata": {
        "colab": {
          "base_uri": "https://localhost:8080/",
          "height": 363
        },
        "id": "y07NbkpCy4SZ",
        "outputId": "a652722d-74f4-4b4a-d63f-ec51ddf55916"
      },
      "execution_count": 21,
      "outputs": [
        {
          "output_type": "execute_result",
          "data": {
            "text/plain": [
              "   Match confidence (lower is better)                        Matched name  \\\n",
              "0  0.90                                NHS England                          \n",
              "1  1.00                                Bristol Port                         \n",
              "2  0.83                                Advantage - West Midlands            \n",
              "3  0.55                                Derby Homes Ltd                      \n",
              "4  0.97                                Homes for Northumberland Ltd         \n",
              "5  0.94                                Welsh Ambulance Services NHS Trust   \n",
              "6  1.05                                Home Service Group (HS) - (s BBC)    \n",
              "7  1.06                                North West Cultural Consortium       \n",
              "8  1.18                                Crossrail Limited                    \n",
              "9  0.00                                City of York Council                 \n",
              "\n",
              "                                                    Origional name  \n",
              "0  NHS England - North West Hub                                     \n",
              "1  University of Bristol                                            \n",
              "2  Advantage South West                                             \n",
              "3  Derby Homes Ltd and Derby City Council                           \n",
              "4  Northumberland, Tyne and Wear NHS Foundation Trust               \n",
              "5  West Midlands Ambulance Service University NHS Foundation Trust  \n",
              "6  HOME GROUP LIMITED                                               \n",
              "7  eMBED Health Consortium                                          \n",
              "8  Paragon asra Housing Limited                                     \n",
              "9  CITY OF YORK COUNCIL                                             "
            ],
            "text/html": [
              "\n",
              "  <div id=\"df-4228f864-ebd7-498c-a813-31b19ea991af\">\n",
              "    <div class=\"colab-df-container\">\n",
              "      <div>\n",
              "<style scoped>\n",
              "    .dataframe tbody tr th:only-of-type {\n",
              "        vertical-align: middle;\n",
              "    }\n",
              "\n",
              "    .dataframe tbody tr th {\n",
              "        vertical-align: top;\n",
              "    }\n",
              "\n",
              "    .dataframe thead th {\n",
              "        text-align: right;\n",
              "    }\n",
              "</style>\n",
              "<table border=\"1\" class=\"dataframe\">\n",
              "  <thead>\n",
              "    <tr style=\"text-align: right;\">\n",
              "      <th></th>\n",
              "      <th>Match confidence (lower is better)</th>\n",
              "      <th>Matched name</th>\n",
              "      <th>Origional name</th>\n",
              "    </tr>\n",
              "  </thead>\n",
              "  <tbody>\n",
              "    <tr>\n",
              "      <th>0</th>\n",
              "      <td>0.90</td>\n",
              "      <td>NHS England</td>\n",
              "      <td>NHS England - North West Hub</td>\n",
              "    </tr>\n",
              "    <tr>\n",
              "      <th>1</th>\n",
              "      <td>1.00</td>\n",
              "      <td>Bristol Port</td>\n",
              "      <td>University of Bristol</td>\n",
              "    </tr>\n",
              "    <tr>\n",
              "      <th>2</th>\n",
              "      <td>0.83</td>\n",
              "      <td>Advantage - West Midlands</td>\n",
              "      <td>Advantage South West</td>\n",
              "    </tr>\n",
              "    <tr>\n",
              "      <th>3</th>\n",
              "      <td>0.55</td>\n",
              "      <td>Derby Homes Ltd</td>\n",
              "      <td>Derby Homes Ltd and Derby City Council</td>\n",
              "    </tr>\n",
              "    <tr>\n",
              "      <th>4</th>\n",
              "      <td>0.97</td>\n",
              "      <td>Homes for Northumberland Ltd</td>\n",
              "      <td>Northumberland, Tyne and Wear NHS Foundation Trust</td>\n",
              "    </tr>\n",
              "    <tr>\n",
              "      <th>5</th>\n",
              "      <td>0.94</td>\n",
              "      <td>Welsh Ambulance Services NHS Trust</td>\n",
              "      <td>West Midlands Ambulance Service University NHS Foundation Trust</td>\n",
              "    </tr>\n",
              "    <tr>\n",
              "      <th>6</th>\n",
              "      <td>1.05</td>\n",
              "      <td>Home Service Group (HS) - (s BBC)</td>\n",
              "      <td>HOME GROUP LIMITED</td>\n",
              "    </tr>\n",
              "    <tr>\n",
              "      <th>7</th>\n",
              "      <td>1.06</td>\n",
              "      <td>North West Cultural Consortium</td>\n",
              "      <td>eMBED Health Consortium</td>\n",
              "    </tr>\n",
              "    <tr>\n",
              "      <th>8</th>\n",
              "      <td>1.18</td>\n",
              "      <td>Crossrail Limited</td>\n",
              "      <td>Paragon asra Housing Limited</td>\n",
              "    </tr>\n",
              "    <tr>\n",
              "      <th>9</th>\n",
              "      <td>0.00</td>\n",
              "      <td>City of York Council</td>\n",
              "      <td>CITY OF YORK COUNCIL</td>\n",
              "    </tr>\n",
              "  </tbody>\n",
              "</table>\n",
              "</div>\n",
              "      <button class=\"colab-df-convert\" onclick=\"convertToInteractive('df-4228f864-ebd7-498c-a813-31b19ea991af')\"\n",
              "              title=\"Convert this dataframe to an interactive table.\"\n",
              "              style=\"display:none;\">\n",
              "        \n",
              "  <svg xmlns=\"http://www.w3.org/2000/svg\" height=\"24px\"viewBox=\"0 0 24 24\"\n",
              "       width=\"24px\">\n",
              "    <path d=\"M0 0h24v24H0V0z\" fill=\"none\"/>\n",
              "    <path d=\"M18.56 5.44l.94 2.06.94-2.06 2.06-.94-2.06-.94-.94-2.06-.94 2.06-2.06.94zm-11 1L8.5 8.5l.94-2.06 2.06-.94-2.06-.94L8.5 2.5l-.94 2.06-2.06.94zm10 10l.94 2.06.94-2.06 2.06-.94-2.06-.94-.94-2.06-.94 2.06-2.06.94z\"/><path d=\"M17.41 7.96l-1.37-1.37c-.4-.4-.92-.59-1.43-.59-.52 0-1.04.2-1.43.59L10.3 9.45l-7.72 7.72c-.78.78-.78 2.05 0 2.83L4 21.41c.39.39.9.59 1.41.59.51 0 1.02-.2 1.41-.59l7.78-7.78 2.81-2.81c.8-.78.8-2.07 0-2.86zM5.41 20L4 18.59l7.72-7.72 1.47 1.35L5.41 20z\"/>\n",
              "  </svg>\n",
              "      </button>\n",
              "      \n",
              "  <style>\n",
              "    .colab-df-container {\n",
              "      display:flex;\n",
              "      flex-wrap:wrap;\n",
              "      gap: 12px;\n",
              "    }\n",
              "\n",
              "    .colab-df-convert {\n",
              "      background-color: #E8F0FE;\n",
              "      border: none;\n",
              "      border-radius: 50%;\n",
              "      cursor: pointer;\n",
              "      display: none;\n",
              "      fill: #1967D2;\n",
              "      height: 32px;\n",
              "      padding: 0 0 0 0;\n",
              "      width: 32px;\n",
              "    }\n",
              "\n",
              "    .colab-df-convert:hover {\n",
              "      background-color: #E2EBFA;\n",
              "      box-shadow: 0px 1px 2px rgba(60, 64, 67, 0.3), 0px 1px 3px 1px rgba(60, 64, 67, 0.15);\n",
              "      fill: #174EA6;\n",
              "    }\n",
              "\n",
              "    [theme=dark] .colab-df-convert {\n",
              "      background-color: #3B4455;\n",
              "      fill: #D2E3FC;\n",
              "    }\n",
              "\n",
              "    [theme=dark] .colab-df-convert:hover {\n",
              "      background-color: #434B5C;\n",
              "      box-shadow: 0px 1px 3px 1px rgba(0, 0, 0, 0.15);\n",
              "      filter: drop-shadow(0px 1px 2px rgba(0, 0, 0, 0.3));\n",
              "      fill: #FFFFFF;\n",
              "    }\n",
              "  </style>\n",
              "\n",
              "      <script>\n",
              "        const buttonEl =\n",
              "          document.querySelector('#df-4228f864-ebd7-498c-a813-31b19ea991af button.colab-df-convert');\n",
              "        buttonEl.style.display =\n",
              "          google.colab.kernel.accessAllowed ? 'block' : 'none';\n",
              "\n",
              "        async function convertToInteractive(key) {\n",
              "          const element = document.querySelector('#df-4228f864-ebd7-498c-a813-31b19ea991af');\n",
              "          const dataTable =\n",
              "            await google.colab.kernel.invokeFunction('convertToInteractive',\n",
              "                                                     [key], {});\n",
              "          if (!dataTable) return;\n",
              "\n",
              "          const docLinkHtml = 'Like what you see? Visit the ' +\n",
              "            '<a target=\"_blank\" href=https://colab.research.google.com/notebooks/data_table.ipynb>data table notebook</a>'\n",
              "            + ' to learn more about interactive tables.';\n",
              "          element.innerHTML = '';\n",
              "          dataTable['output_type'] = 'display_data';\n",
              "          await google.colab.output.renderOutput(dataTable, element);\n",
              "          const docLink = document.createElement('div');\n",
              "          docLink.innerHTML = docLinkHtml;\n",
              "          element.appendChild(docLink);\n",
              "        }\n",
              "      </script>\n",
              "    </div>\n",
              "  </div>\n",
              "  "
            ]
          },
          "metadata": {},
          "execution_count": 21
        }
      ]
    },
    {
      "cell_type": "code",
      "source": [
        ""
      ],
      "metadata": {
        "id": "SPCk-GK1zFUB"
      },
      "execution_count": null,
      "outputs": []
    }
  ]
}